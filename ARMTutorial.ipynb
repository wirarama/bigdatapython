{
 "cells": [
  {
   "cell_type": "code",
   "execution_count": 1,
   "metadata": {},
   "outputs": [],
   "source": [
    "import numpy as np\n",
    "import pandas as pd"
   ]
  },
  {
   "cell_type": "code",
   "execution_count": 2,
   "metadata": {},
   "outputs": [],
   "source": [
    "df = pd.read_csv('vgsales.csv')"
   ]
  },
  {
   "cell_type": "code",
   "execution_count": 3,
   "metadata": {},
   "outputs": [],
   "source": [
    "from sqlalchemy import create_engine\n",
    "from pandas.io import sql\n",
    "engine = create_engine('sqlite:///:memory:')\n",
    "df.to_sql('vgsales',engine)"
   ]
  },
  {
   "cell_type": "code",
   "execution_count": null,
   "metadata": {},
   "outputs": [],
   "source": [
    "df.columns"
   ]
  },
  {
   "cell_type": "code",
   "execution_count": 4,
   "metadata": {},
   "outputs": [
    {
     "data": {
      "text/plain": [
       "array(['Wii', 'NES', 'GB', 'DS', 'X360', 'PS3', 'PS2', 'SNES', 'GBA',\n",
       "       '3DS', 'PS4', 'N64', 'PS', 'XB', 'PC', '2600', 'PSP', 'XOne', 'GC',\n",
       "       'WiiU', 'GEN', 'DC', 'PSV', 'SAT', 'SCD', 'WS', 'NG', 'TG16',\n",
       "       '3DO', 'GG', 'PCFX'], dtype=object)"
      ]
     },
     "execution_count": 4,
     "metadata": {},
     "output_type": "execute_result"
    }
   ],
   "source": [
    "df['Platform'].unique()"
   ]
  },
  {
   "cell_type": "code",
   "execution_count": 5,
   "metadata": {},
   "outputs": [],
   "source": [
    "def ARMformat(a,b,tb):\n",
    "    collect = []\n",
    "    for x in df[a].unique():\n",
    "        q = \"SELECT \"+b+\" FROM \"+tb+\" WHERE \"+a+\"='\"+x+\"'\"\n",
    "        res = pd.read_sql_query(q,engine)\n",
    "        res=res[b].unique()\n",
    "        resclean = []\n",
    "        #pre = res[0]\n",
    "        for i in res:\n",
    "            if i!=None or i!='null' or i!='NaN':\n",
    "                resclean.append(i)\n",
    "                #pre = i\n",
    "            #else\n",
    "                #resclean.append(pre)\n",
    "        resmin = resclean[0:10] #terpaksa biar cepat saja\n",
    "        collect.append(list(resmin))\n",
    "    return collect"
   ]
  },
  {
   "cell_type": "code",
   "execution_count": 6,
   "metadata": {},
   "outputs": [
    {
     "data": {
      "text/plain": [
       "31"
      ]
     },
     "execution_count": 6,
     "metadata": {},
     "output_type": "execute_result"
    }
   ],
   "source": [
    "data = ARMformat('Platform','Publisher','vgsales')\n",
    "len(data)"
   ]
  },
  {
   "cell_type": "code",
   "execution_count": 7,
   "metadata": {},
   "outputs": [
    {
     "name": "stdout",
     "output_type": "stream",
     "text": [
      "Wii ['Nintendo', 'Ubisoft', 'Sega', '505 Games', 'LucasArts', 'Activision', 'Take-Two Interactive', 'Electronic Arts', 'Warner Bros. Interactive Entertainment', 'Disney Interactive Studios'] \n",
      "\n",
      "NES ['Nintendo', 'Palcom', 'Enix Corporation', 'Namco Bandai Games', 'Capcom', 'Konami Digital Entertainment', 'Hudson Soft', 'SquareSoft', 'Ocean', 'BPS'] \n",
      "\n",
      "GB ['Nintendo', 'Eidos Interactive', 'Konami Digital Entertainment', 'Electronic Arts', 'Enix Corporation', 'Namco Bandai Games', 'Capcom', 'Activision', 'SquareSoft', 'Imagineer'] \n",
      "\n",
      "DS ['Nintendo', '505 Games', 'Sega', 'LucasArts', 'Electronic Arts', 'Activision', 'Disney Interactive Studios', 'Warner Bros. Interactive Entertainment', 'Ubisoft', 'Square Enix'] \n",
      "\n",
      "X360 ['Microsoft Game Studios', 'Take-Two Interactive', 'Activision', 'Bethesda Softworks', 'Electronic Arts', 'Ubisoft', 'Warner Bros. Interactive Entertainment', 'Capcom', 'Eidos Interactive', 'MTV Games'] \n",
      "\n",
      "PS3 ['Take-Two Interactive', 'Activision', 'Sony Computer Entertainment', 'Electronic Arts', 'Bethesda Softworks', 'Ubisoft', 'Konami Digital Entertainment', 'Sony Computer Entertainment Europe', 'Warner Bros. Interactive Entertainment', 'Square Enix'] \n",
      "\n",
      "PS2 ['Take-Two Interactive', 'Sony Computer Entertainment', 'Electronic Arts', 'Konami Digital Entertainment', 'Square Enix', 'Universal Interactive', 'RedOctane', 'Activision', 'Vivendi Games', 'Namco Bandai Games'] \n",
      "\n",
      "SNES ['Nintendo', 'Capcom', 'SquareSoft', 'Enix Corporation', 'Acclaim Entertainment', 'Virgin Interactive', 'Square', 'Banpresto', 'Namco Bandai Games', 'ASCII Entertainment'] \n",
      "\n",
      "GBA ['Nintendo', 'Namco Bandai Games', 'Atari', 'THQ', 'Konami Digital Entertainment', 'Sega', 'Vivendi Games', 'SquareSoft', 'Electronic Arts', 'Square Enix'] \n",
      "\n",
      "3DS ['Nintendo', 'Capcom', 'Level 5', 'Square Enix', 'GungHo', 'Sega', 'LucasArts', 'Marvelous Entertainment', 'Warner Bros. Interactive Entertainment', 'mixi, Inc'] \n",
      "\n",
      "PS4 ['Activision', 'Take-Two Interactive', 'Electronic Arts', 'Bethesda Softworks', 'Sony Computer Entertainment', 'Ubisoft', 'Sony Computer Entertainment Europe', 'Warner Bros. Interactive Entertainment', 'Namco Bandai Games', 'Konami Digital Entertainment'] \n",
      "\n",
      "N64 ['Nintendo', 'THQ', 'Activision', 'Acclaim Entertainment', 'Video System', 'Electronic Arts', 'Namco Bandai Games', 'Ocean', 'Midway Games', 'Hudson Soft'] \n",
      "\n",
      "PS ['Sony Computer Entertainment', 'SquareSoft', 'GT Interactive', 'Konami Digital Entertainment', 'Virgin Interactive', 'Eidos Interactive', 'Activision', 'Atari', 'Enix Corporation', 'Hasbro Interactive'] \n",
      "\n",
      "XB ['Microsoft Game Studios', 'Ubisoft', 'Take-Two Interactive', 'Electronic Arts', 'Activision', 'Sega', 'Vivendi Games', 'Universal Interactive', 'Atari', 'Eidos Interactive'] \n",
      "\n",
      "PC ['Electronic Arts', 'Activision', 'Microsoft Game Studios', 'Vivendi Games', 'Bethesda Softworks', 'Virgin Interactive', 'Red Orb', 'Hasbro Interactive', 'NCSoft', 'Eidos Interactive'] \n",
      "\n",
      "2600 ['Atari', 'Activision', 'Parker Bros.', 'Imagic', 'Coleco', 'Quelle', 'Mystique', '20th Century Fox Video Games', 'Men-A-Vision', 'Tigervision'] \n",
      "\n",
      "PSP ['Take-Two Interactive', 'Capcom', 'Sony Computer Entertainment', 'Square Enix', 'Electronic Arts', 'Activision', 'Konami Digital Entertainment', 'LucasArts', 'Sega', 'Warner Bros. Interactive Entertainment'] \n",
      "\n",
      "XOne ['Activision', 'Take-Two Interactive', 'Microsoft Game Studios', 'Bethesda Softworks', 'Electronic Arts', 'Ubisoft', 'Warner Bros. Interactive Entertainment', 'Square Enix', 'Namco Bandai Games', 'Konami Digital Entertainment'] \n",
      "\n",
      "GC ['Nintendo', 'Sega', 'Infogrames', 'LucasArts', 'Capcom', 'Atari', 'Namco Bandai Games', 'Eidos Interactive', 'Electronic Arts', 'Activision'] \n",
      "\n",
      "WiiU ['Nintendo', 'Ubisoft', 'Namco Bandai Games', 'Warner Bros. Interactive Entertainment', 'Activision', 'Disney Interactive Studios', 'Sega', 'Electronic Arts', 'Microsoft Game Studios', 'Square Enix'] \n",
      "\n",
      "GEN ['Sega', 'Arena Entertainment', 'Virgin Interactive', 'Acclaim Entertainment', 'Capcom', 'Game Arts', 'Konami Digital Entertainment'] \n",
      "\n",
      "DC ['Sega', 'Eidos Interactive', 'Namco Bandai Games', 'Virgin Interactive', 'Ubisoft', 'Genki', 'Acclaim Entertainment', 'Capcom', 'SNK', 'Activision'] \n",
      "\n",
      "PSV ['Sony Computer Entertainment Europe', 'Sony Computer Entertainment', 'Activision', 'Ubisoft', 'Atlus', 'Electronic Arts', 'Square Enix', 'Take-Two Interactive', 'Warner Bros. Interactive Entertainment', 'Sega'] \n",
      "\n",
      "SAT ['Sega', 'Compile', 'Banpresto', 'ESP', 'Namco Bandai Games', 'Atlus', 'Konami Digital Entertainment', 'Elf', 'Capcom', 'Virgin Interactive'] \n",
      "\n",
      "SCD ['Sega'] \n",
      "\n",
      "WS ['SquareSoft', 'Namco Bandai Games'] \n",
      "\n",
      "NG ['SNK', 'Hudson Soft', 'Technos Japan Corporation'] \n",
      "\n",
      "TG16 ['NEC', 'Hudson Soft'] \n",
      "\n",
      "3DO ['Konami Digital Entertainment', 'Micro Cabin', 'Imageworks'] \n",
      "\n",
      "GG ['Sega'] \n",
      "\n",
      "PCFX ['NEC'] \n",
      "\n"
     ]
    }
   ],
   "source": [
    "i = 0\n",
    "pre = df['Platform'].unique()\n",
    "for dt in data:\n",
    "    print(pre[i],dt,\"\\n\")\n",
    "    i+=1"
   ]
  },
  {
   "cell_type": "markdown",
   "metadata": {},
   "source": [
    "FPGrowth"
   ]
  },
  {
   "cell_type": "code",
   "execution_count": null,
   "metadata": {},
   "outputs": [],
   "source": [
    "!pip install pyfpgrowth"
   ]
  },
  {
   "cell_type": "code",
   "execution_count": 8,
   "metadata": {},
   "outputs": [],
   "source": [
    "import pyfpgrowth"
   ]
  },
  {
   "cell_type": "code",
   "execution_count": 9,
   "metadata": {},
   "outputs": [
    {
     "name": "stdout",
     "output_type": "stream",
     "text": [
      "('Konami Digital Entertainment',) : 12\n",
      "('Namco Bandai Games',) : 13\n",
      "('Sega',) : 14\n",
      "('Electronic Arts',) : 16\n",
      "('Activision', 'Electronic Arts') : 15\n",
      "('Activision',) : 18\n"
     ]
    }
   ],
   "source": [
    "patterns = pyfpgrowth.find_frequent_patterns(data, 12)\n",
    "for p,d in patterns.items():\n",
    "    print(p,\":\",d)"
   ]
  },
  {
   "cell_type": "code",
   "execution_count": 10,
   "metadata": {},
   "outputs": [
    {
     "name": "stdout",
     "output_type": "stream",
     "text": [
      "('Activision',) => (('Electronic Arts',), 0.8333333333333334)\n",
      "('Electronic Arts',) => (('Activision',), 0.9375)\n"
     ]
    }
   ],
   "source": [
    "rules = pyfpgrowth.generate_association_rules(patterns, 0.5)\n",
    "for p,d in rules.items():\n",
    "    print(p,\"=>\",d)"
   ]
  },
  {
   "cell_type": "markdown",
   "metadata": {},
   "source": [
    "Apriori"
   ]
  },
  {
   "cell_type": "code",
   "execution_count": null,
   "metadata": {},
   "outputs": [],
   "source": [
    "!pip install efficient_apriori"
   ]
  },
  {
   "cell_type": "code",
   "execution_count": 11,
   "metadata": {},
   "outputs": [],
   "source": [
    "from efficient_apriori import apriori"
   ]
  },
  {
   "cell_type": "code",
   "execution_count": 12,
   "metadata": {},
   "outputs": [],
   "source": [
    "itemsets, rules = apriori(data, min_support=0.4,  min_confidence=0.2)"
   ]
  },
  {
   "cell_type": "code",
   "execution_count": 13,
   "metadata": {},
   "outputs": [
    {
     "name": "stdout",
     "output_type": "stream",
     "text": [
      "('Electronic Arts',)=>('Activision',)\t0.4838709677419355\t0.9375\t1.6145833333333335\t6.709677312000001\n",
      "('Activision',)=>('Electronic Arts',)\t0.4838709677419355\t0.8333333333333334\t1.6145833333333335\t2.903225789032259\n"
     ]
    }
   ],
   "source": [
    "hasil = []\n",
    "for x in rules:\n",
    "    hasil.append([str(x.lhs)+\"=>\"+str(x.rhs),x.support,x.confidence,x.lift,x.conviction])\n",
    "    print(str(x.lhs)+\"=>\"+str(x.rhs),x.support,x.confidence,x.lift,x.conviction,sep=\"\\t\")"
   ]
  },
  {
   "cell_type": "code",
   "execution_count": null,
   "metadata": {},
   "outputs": [],
   "source": []
  }
 ],
 "metadata": {
  "kernelspec": {
   "display_name": "Python 3",
   "language": "python",
   "name": "python3"
  },
  "language_info": {
   "codemirror_mode": {
    "name": "ipython",
    "version": 3
   },
   "file_extension": ".py",
   "mimetype": "text/x-python",
   "name": "python",
   "nbconvert_exporter": "python",
   "pygments_lexer": "ipython3",
   "version": "3.7.3"
  }
 },
 "nbformat": 4,
 "nbformat_minor": 2
}
