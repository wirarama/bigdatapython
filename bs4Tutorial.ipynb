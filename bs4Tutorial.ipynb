{
 "cells": [
  {
   "cell_type": "code",
   "execution_count": 1,
   "metadata": {},
   "outputs": [],
   "source": [
    "from bs4 import BeautifulSoup\n",
    "import requests as req"
   ]
  },
  {
   "cell_type": "code",
   "execution_count": 2,
   "metadata": {},
   "outputs": [],
   "source": [
    "resp = req.get(\"https://en.wikipedia.org/wiki/Lombok\")\n",
    "soup = BeautifulSoup(resp.text,'lxml')"
   ]
  },
  {
   "cell_type": "code",
   "execution_count": 3,
   "metadata": {},
   "outputs": [
    {
     "name": "stdout",
     "output_type": "stream",
     "text": [
      "Contents\n",
      "Administration[edit]\n",
      "History[edit]\n",
      "Geography[edit]\n",
      "Water problem[edit]\n",
      "Demographics[edit]\n",
      "Religion[edit]\n",
      "Economy and politics[edit]\n",
      "Tourism[edit]\n",
      "See also[edit]\n",
      "Notes[edit]\n",
      "References[edit]\n",
      "External links[edit]\n",
      "Navigation menu\n"
     ]
    }
   ],
   "source": [
    "for x in soup.find_all('h2'):\n",
    "    print(x.text)"
   ]
  },
  {
   "cell_type": "code",
   "execution_count": 4,
   "metadata": {},
   "outputs": [
    {
     "name": "stdout",
     "output_type": "stream",
     "text": [
      "Administration\n",
      "History\n",
      "Earthquake disaster\n",
      "Geography\n",
      "List of islands\n",
      "Water problem\n",
      "Demographics\n",
      "Religion\n",
      "Economy and politics\n",
      "Tourism\n",
      "Pre-1997\n",
      "1997 to 2007\n",
      "2008 to the present\n",
      "Transport between Bali and Lombok\n",
      "See also\n",
      "Notes\n",
      "References\n",
      "External links\n"
     ]
    }
   ],
   "source": [
    "for x in soup.find_all('span',{\"class\":\"mw-headline\"}):\n",
    "    print(x.text)"
   ]
  },
  {
   "cell_type": "code",
   "execution_count": 8,
   "metadata": {},
   "outputs": [
    {
     "name": "stdout",
     "output_type": "stream",
     "text": [
      "None\n",
      "None\n",
      "None\n",
      "None\n",
      "None\n",
      "None\n",
      "None\n",
      "None\n",
      "None\n",
      "None\n",
      "None\n",
      "None\n",
      "None\n",
      "None\n",
      "None\n",
      "None\n",
      "None\n",
      "None\n",
      "None\n",
      "None\n",
      "None\n",
      "None\n",
      "None\n",
      "None\n",
      "None\n",
      "None\n",
      "None\n",
      "None\n",
      "None\n",
      "None\n",
      "None\n",
      "None\n"
     ]
    }
   ],
   "source": [
    "for x in soup.find_all('img'):\n",
    "    print(x.src)"
   ]
  },
  {
   "cell_type": "code",
   "execution_count": 9,
   "metadata": {},
   "outputs": [],
   "source": [
    "f = open(\"wikiLombok.txt\",'w')\n",
    "a = ['span',{\"class\":\"mw-headline\"}]\n",
    "b = 'p'\n",
    "for x in soup.find_all([a,b]):\n",
    "    f.write(\" \".join(x.text.split())+\"\\n\")\n",
    "f.close()"
   ]
  },
  {
   "cell_type": "code",
   "execution_count": null,
   "metadata": {},
   "outputs": [],
   "source": []
  }
 ],
 "metadata": {
  "kernelspec": {
   "display_name": "Python 3",
   "language": "python",
   "name": "python3"
  },
  "language_info": {
   "codemirror_mode": {
    "name": "ipython",
    "version": 3
   },
   "file_extension": ".py",
   "mimetype": "text/x-python",
   "name": "python",
   "nbconvert_exporter": "python",
   "pygments_lexer": "ipython3",
   "version": "3.7.3"
  }
 },
 "nbformat": 4,
 "nbformat_minor": 2
}
