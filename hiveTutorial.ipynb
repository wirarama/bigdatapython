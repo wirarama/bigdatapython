{
 "cells": [
  {
   "cell_type": "code",
   "execution_count": null,
   "metadata": {},
   "outputs": [],
   "source": [
    "!xed ~/.bashrc"
   ]
  },
  {
   "cell_type": "code",
   "execution_count": null,
   "metadata": {},
   "outputs": [],
   "source": [
    "!export HIVE_HOME=/home/wirarama/hive\n",
    "!export PATH=$PATH:$HIVE_HOME/bin"
   ]
  },
  {
   "cell_type": "code",
   "execution_count": null,
   "metadata": {},
   "outputs": [],
   "source": [
    "!~/hadoop/bin/hdfs namenode -format"
   ]
  },
  {
   "cell_type": "code",
   "execution_count": null,
   "metadata": {},
   "outputs": [],
   "source": [
    "!~/hadoop/sbin/start-dfs.sh"
   ]
  },
  {
   "cell_type": "markdown",
   "metadata": {},
   "source": [
    "http://localhost:50070/"
   ]
  },
  {
   "cell_type": "code",
   "execution_count": 1,
   "metadata": {},
   "outputs": [],
   "source": [
    "!~/hadoop/bin/hdfs dfs -mkdir /tmp\n",
    "!~/hadoop/bin/hdfs dfs -chmod g+w /tmp"
   ]
  },
  {
   "cell_type": "code",
   "execution_count": null,
   "metadata": {},
   "outputs": [],
   "source": [
    "!hive -e 'create database test_db;'"
   ]
  },
  {
   "cell_type": "code",
   "execution_count": null,
   "metadata": {},
   "outputs": [],
   "source": [
    "!hive -e 'use test_db;create table t(id int);'"
   ]
  },
  {
   "cell_type": "code",
   "execution_count": null,
   "metadata": {},
   "outputs": [],
   "source": [
    "!hive -e 'INSERT INTO test_db.t VALUES(1)'"
   ]
  },
  {
   "cell_type": "code",
   "execution_count": 2,
   "metadata": {},
   "outputs": [
    {
     "name": "stdout",
     "output_type": "stream",
     "text": [
      "ls: cannot access '/home/wirarama/spark/lib/spark-assembly-*.jar': No such file or directory\n",
      "\n",
      "Logging initialized using configuration in jar:file:/home/wirarama/hive/lib/hive-common-1.2.2.jar!/hive-log4j.properties\n",
      "OK\n",
      "Time taken: 7.179 seconds\n"
     ]
    }
   ],
   "source": [
    "!hive -e 'drop database test cascade;'"
   ]
  },
  {
   "cell_type": "code",
   "execution_count": null,
   "metadata": {},
   "outputs": [],
   "source": [
    "#testquerycsv-edit.sql\n",
    "create database if not exists test;\n",
    "create table test.sample (tgl STRING, a INT, b INT, c INT, d INT) row format delimited fields terminated by ',' stored as textfile;\n",
    "use test; \n",
    "show tables;\n",
    "load data local inpath 'DataWaktu.csv' into table test.sample;\n",
    "select * from sample limit 50;"
   ]
  },
  {
   "cell_type": "code",
   "execution_count": 3,
   "metadata": {
    "scrolled": true
   },
   "outputs": [
    {
     "name": "stdout",
     "output_type": "stream",
     "text": [
      "ls: cannot access '/home/wirarama/spark/lib/spark-assembly-*.jar': No such file or directory\n",
      "\n",
      "Logging initialized using configuration in jar:file:/home/wirarama/hive/lib/hive-common-1.2.2.jar!/hive-log4j.properties\n",
      "OK\n",
      "Time taken: 2.1 seconds\n",
      "OK\n",
      "Time taken: 1.31 seconds\n",
      "OK\n",
      "Time taken: 0.014 seconds\n",
      "OK\n",
      "sample\n",
      "Time taken: 0.43 seconds, Fetched: 1 row(s)\n",
      "Loading data to table test.sample\n",
      "Table test.sample stats: [numFiles=1, totalSize=289155]\n",
      "OK\n",
      "Time taken: 2.472 seconds\n",
      "OK\n",
      "2013-01-01 01:00:00\t1\t65\t403\t34\n",
      "2013-01-01 02:00:00\t5\t96\t1518\t1168\n",
      "2013-01-01 03:00:00\t7\t54\t284\t24\n",
      "2013-01-01 04:00:00\t2\t72\t371\t33\n",
      "2013-01-01 05:00:00\t3\t66\t391\t24\n",
      "2013-01-01 06:00:00\t7\t84\t383\t21\n",
      "2013-01-01 07:00:00\t7\t71\t398\t25\n",
      "2013-01-01 08:00:00\t5\t52\t228\t34\n",
      "2013-01-01 09:00:00\t9\t81\t336\t29\n",
      "2013-01-01 10:00:00\t4\t73\t1512\t1186\n",
      "2013-01-01 11:00:00\t9\t63\t1506\t1255\n",
      "2013-01-01 12:00:00\t6\t52\t249\t32\n",
      "2013-01-01 13:00:00\t1\t84\t216\t30\n",
      "2013-01-01 14:00:00\t6\t61\t332\t28\n",
      "2013-01-01 15:00:00\t5\t6912\t3601\t1558\n",
      "2013-01-01 16:00:00\t1\t84\t301\t29\n",
      "2013-01-01 17:00:00\t8\t71\t437\t26\n",
      "2013-01-01 18:00:00\t2\t50\t360\t27\n",
      "2013-01-01 19:00:00\t6\t96\t229\t20\n",
      "2013-01-01 20:00:00\t1\t64\t297\t27\n",
      "2013-01-01 21:00:00\t10\t97\t272\t21\n",
      "2013-01-01 22:00:00\t1\t64\t272\t27\n",
      "2013-01-01 23:00:00\t1\t55\t175\t30\n",
      "2013-01-02 00:00:00\t1\t91\t271\t22\n",
      "2013-01-02 01:00:00\t10\t72\t268\t34\n",
      "2013-01-02 02:00:00\t2\t84\t1579\t1258\n",
      "2013-01-02 03:00:00\t8\t96\t1551\t1209\n",
      "2013-01-02 04:00:00\t8\t66\t209\t21\n",
      "2013-01-02 05:00:00\t6\t93\t1526\t1295\n",
      "2013-01-02 06:00:00\t1\t86\t193\t25\n",
      "2013-01-02 07:00:00\t1\t93\t339\t33\n",
      "2013-01-02 08:00:00\t5\t100\t339\t22\n",
      "2013-01-02 09:00:00\t1\t66\t383\t35\n",
      "2013-01-02 10:00:00\t10\t5342\t4287\t2063\n",
      "2013-01-02 11:00:00\t9\t56\t336\t33\n",
      "2013-01-02 12:00:00\t3\t60\t419\t21\n",
      "2013-01-02 13:00:00\t9\t88\t1576\t1233\n",
      "2013-01-02 14:00:00\t6\t83\t322\t26\n",
      "2013-01-02 15:00:00\t5\t74\t408\t24\n",
      "2013-01-02 16:00:00\t3\t73\t400\t25\n",
      "2013-01-02 17:00:00\t3\t69\t1507\t1246\n",
      "2013-01-02 18:00:00\t1\t71\t277\t31\n",
      "2013-01-02 19:00:00\t8\t84\t366\t27\n",
      "2013-01-02 20:00:00\t2\t66\t318\t24\n",
      "2013-01-02 21:00:00\t5\t57\t224\t30\n",
      "2013-01-02 22:00:00\t10\t82\t330\t34\n",
      "2013-01-02 23:00:00\t7\t65\t1547\t1190\n",
      "2013-01-03 00:00:00\t6\t91\t1635\t1216\n",
      "2013-01-03 01:00:00\t9\t77\t438\t20\n",
      "2013-01-03 02:00:00\t8\t52\t407\t28\n",
      "Time taken: 1.358 seconds, Fetched: 50 row(s)\n"
     ]
    }
   ],
   "source": [
    "!hive -f ~/hive/test/testquerycsv-edit.sql"
   ]
  },
  {
   "cell_type": "code",
   "execution_count": null,
   "metadata": {},
   "outputs": [],
   "source": [
    "!~/hadoop/bin/hdfs dfs -ls /user/hive/warehouse/test2.db/sample"
   ]
  },
  {
   "cell_type": "code",
   "execution_count": 4,
   "metadata": {},
   "outputs": [
    {
     "name": "stdout",
     "output_type": "stream",
     "text": [
      "ls: cannot access '/home/wirarama/spark/lib/spark-assembly-*.jar': No such file or directory\n",
      "\n",
      "Logging initialized using configuration in jar:file:/home/wirarama/hive/lib/hive-common-1.2.2.jar!/hive-log4j.properties\n",
      "OK\n",
      "2013-01-01 11:00:00\t9\t63\t1506\t1255\n",
      "2013-01-02 03:00:00\t8\t96\t1551\t1209\n",
      "2013-01-02 05:00:00\t6\t93\t1526\t1295\n",
      "2013-01-02 10:00:00\t10\t5342\t4287\t2063\n",
      "2013-01-02 13:00:00\t9\t88\t1576\t1233\n",
      "2013-01-02 23:00:00\t7\t65\t1547\t1190\n",
      "2013-01-03 00:00:00\t6\t91\t1635\t1216\n",
      "2013-01-03 07:00:00\t6\t8832\t5587\t6967\n",
      "2013-01-03 09:00:00\t9\t88\t1696\t1189\n",
      "2013-01-03 19:00:00\t9\t76\t1683\t1278\n",
      "2013-01-04 01:00:00\t8\t76\t1691\t1142\n",
      "2013-01-04 07:00:00\t7\t7182\t4813\t2447\n",
      "2013-01-04 11:00:00\t6\t62\t1532\t1280\n",
      "2013-01-04 12:00:00\t8\t5679\t5550\t3006\n",
      "2013-01-05 06:00:00\t7\t72\t1571\t1149\n",
      "2013-01-05 07:00:00\t6\t7069\t4466\t5226\n",
      "2013-01-05 14:00:00\t6\t5043\t4832\t7143\n",
      "2013-01-06 08:00:00\t6\t86\t1671\t1188\n",
      "2013-01-06 10:00:00\t8\t82\t1524\t1297\n",
      "2013-01-07 01:00:00\t6\t76\t1608\t1193\n",
      "Time taken: 3.011 seconds, Fetched: 20 row(s)\n"
     ]
    }
   ],
   "source": [
    "!hive -e 'SELECT * FROM test.sample WHERE a>5 AND b>50 AND c>1000 LIMIT 20;'"
   ]
  },
  {
   "cell_type": "code",
   "execution_count": null,
   "metadata": {},
   "outputs": [],
   "source": [
    "!~/hadoop/sbin/stop-dfs.sh"
   ]
  }
 ],
 "metadata": {
  "kernelspec": {
   "display_name": "Python 3",
   "language": "python",
   "name": "python3"
  },
  "language_info": {
   "codemirror_mode": {
    "name": "ipython",
    "version": 3
   },
   "file_extension": ".py",
   "mimetype": "text/x-python",
   "name": "python",
   "nbconvert_exporter": "python",
   "pygments_lexer": "ipython3",
   "version": "3.7.3"
  }
 },
 "nbformat": 4,
 "nbformat_minor": 2
}
