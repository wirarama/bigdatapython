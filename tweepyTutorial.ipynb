{
 "cells": [
  {
   "cell_type": "code",
   "execution_count": 1,
   "metadata": {},
   "outputs": [],
   "source": [
    "import tweepy\n",
    "import twitterAPI as ta\n",
    "import datetime as dt"
   ]
  },
  {
   "cell_type": "code",
   "execution_count": 2,
   "metadata": {},
   "outputs": [],
   "source": [
    "#twitterAPI.py\n",
    "consumer_key = \"\"\n",
    "consumer_secret = \"\"\n",
    "access_token = \"\"\n",
    "access_token_secret = \"\""
   ]
  },
  {
   "cell_type": "code",
   "execution_count": 3,
   "metadata": {},
   "outputs": [],
   "source": [
    "auth = tweepy.auth.OAuthHandler(consumer_key,consumer_secret)\n",
    "auth.set_access_token(access_token,access_token_secret)\n",
    "api = tweepy.API(auth)"
   ]
  },
  {
   "cell_type": "code",
   "execution_count": null,
   "metadata": {},
   "outputs": [],
   "source": [
    "for tweet in api.home_timeline():\n",
    "    print(tweet.text)"
   ]
  },
  {
   "cell_type": "code",
   "execution_count": 4,
   "metadata": {},
   "outputs": [
    {
     "name": "stdout",
     "output_type": "stream",
     "text": [
      "b'A classic motorcycle ride around Panoramica with @albitebaldi \\nUn giro in Pano con Albi \\n\\xf0\\x9f\\x8e\\xa5#GoPro \\nYamaha Mya(Io)\\nYa\\xe2\\x80\\xa6 https://t.co/z0eZ62QAnk'\n",
      "b'Training at the Fratte MX Camp with the @VRRidersAcademy \\n\\xf0\\x9f\\x93\\xb8 @camilss @ Fratte https://t.co/2qAIdMc1T6'\n",
      "b'Mucchio selvaggio \\xf0\\x9f\\xa7\\xa8\\nGran bagarre al MotoRanch con la @VRRidersAcademy \\n\\xf0\\x9f\\x93\\xb8 @camilss @ Motor VR 46 Ranch https://t.co/lPKtzeWP7C'\n",
      "b'Motorland de Aragon,Spain\\nSaturday,official practice\\n\\xf0\\x9f\\x93\\xb8 @falex79 @gigisoldano @Jesus_Robledo @ MotorLand Arag\\xc3\\xb3n https://t.co/5NjHobiOYc'\n",
      "b'Motorland de Aragon,Spain\\nSaturday,official practice\\n\\xf0\\x9f\\x93\\xb8 @falex79 @gigisoldano @Jesus_Robledo @ MotorLand Arag\\xc3\\xb3n https://t.co/GM4WvlClDF'\n",
      "b'Motorland de Aragon,Spain\\nFriday,free practice\\nPic8 yamahamotogp complete Team\\xe2\\x9d\\xa4\\xef\\xb8\\x8f\\n\\xf0\\x9f\\x93\\xb8 @falex79 @gigisoldano\\xe2\\x80\\xa6 https://t.co/Qr6LMpExCC'\n",
      "b'Motorland de Aragon,Spain\\nFriday,free practice\\nPic 8 VR46 Team!\\n\\xf0\\x9f\\x93\\xb8 @falex79 @gigisoldano @Jesus_Robledo @ MotorLand\\xe2\\x80\\xa6 https://t.co/bmYb86GH5U'\n",
      "b'Grazie Misano,\\xc3\\xa8 stato un onore e un privilegio correre con la mia moto davanti a questo tifo pi\\xc3\\xb9 unico che raro.\\nSe\\xe2\\x80\\xa6 https://t.co/qxwza1N1NO'\n",
      "b'Misano World Circuit,Italia\\nSabato,prove ufficiali \\n\\xf0\\x9f\\x93\\xb8 @falex79 @gigisoldano @calloalbanese @Jesus_Robledo Tino Mart\\xe2\\x80\\xa6 https://t.co/X9lpX9wbN9'\n",
      "b'Misano world Circuit,Italia\\nSabato,prove ufficiali\\n\\xf0\\x9f\\x93\\xb8 @falex79 @gigisoldano @calloalbanese @Jesus_Robledo Tino Marti\\xe2\\x80\\xa6 https://t.co/AeG2PEFf8j'\n",
      "b'Misano world Circuit,Italia\\nVenerd\\xc3\\xac,prove libere\\n\\xf0\\x9f\\x93\\xb8 @falex79 @gigisoldano @calloalbanese @Jesus_Robledo Tino Martino\\xe2\\x80\\xa6 https://t.co/Wu1HzQjTIp'\n",
      "b'Misano world circuit,Italia \\nVenerd\\xc3\\xac,prove libere \\n\\xf0\\x9f\\x93\\xb8 @falex79 @gigisoldano @calloalbanese @Jesus_Robledo Tino Marti\\xe2\\x80\\xa6 https://t.co/vGR5o5XBSX'\n",
      "b'Grandi traversi e tanto divertimento per la terza edizione dello Yamaha day al MotoRanch \\n\\xf0\\x9f\\x93\\xb8 @camilss @ Motor VR 46\\xe2\\x80\\xa6 https://t.co/cKjDm6p6tY'\n",
      "b'Da Tavullia a Misano con la mia M1 \\n\\xf0\\x9f\\x93\\xb8 by @camilss @ Tavullia https://t.co/1QDfVSigjB'\n",
      "b'From Tavullia to Misano with my M1 \\n\\xf0\\x9f\\x8e\\xa5 by @motogp \\n\\xf0\\x9f\\x93\\xb8 by @camilss @ Tavullia https://t.co/GixR7vFAq8'\n",
      "b'Training at the MotoRanch before Misano with the @VRRidersAcademy \\n\\xf0\\x9f\\x93\\xb8 @camilss @ Motor VR 46 Ranch https://t.co/FtSWFFCEuz'\n",
      "b'Hard work at the MotoRanch for the new Flat Track Temple \\xf0\\x9f\\x9a\\xa7\\xf0\\x9f\\x9a\\x9c\\xf0\\x9f\\x9a\\x9a\\nwith @bellithe6 and the @VRRidersAcademy \\n\\xf0\\x9f\\x93\\xb8 @camilss @\\xe2\\x80\\xa6 https://t.co/F3Z0vx7mxP'\n",
      "b'Training at the MotoRanch with the @VRRidersAcademy \\n\\xf0\\x9f\\x93\\xb8 @camilss @ Motor VR 46 Ranch https://t.co/931BqG24gm'\n",
      "b'Silverstone circuit,England\\nSaturday,official practice\\n\\xf0\\x9f\\x93\\xb8 @Jesus_Robledo @gigisoldano @falex79 Tino Martino \\n\\xf0\\x9f\\x93\\xb8 pic 5\\xe2\\x80\\xa6 https://t.co/fhNcOxBAW4'\n",
      "b'Silverstone circuit,England\\nSaturday,official practice\\n\\xf0\\x9f\\x93\\xb8 @Jesus_Robledo @gigisoldano @falex79 \\n\\xf0\\x9f\\x8e\\xa5 by @motogp \\n\\xf0\\x9f\\x93\\xb8 by g\\xe2\\x80\\xa6 https://t.co/SpO6q4z6LS'\n"
     ]
    }
   ],
   "source": [
    "for tweet in api.user_timeline(\"ValeYellow46\"):\n",
    "    print(tweet.text.encode('utf-8'))"
   ]
  },
  {
   "cell_type": "code",
   "execution_count": 5,
   "metadata": {},
   "outputs": [],
   "source": [
    "def carikata(x,tweet):\n",
    "    if x.lower() in tweet.lower():\n",
    "        return True\n",
    "    else:\n",
    "        return False"
   ]
  },
  {
   "cell_type": "code",
   "execution_count": 6,
   "metadata": {},
   "outputs": [],
   "source": [
    "def unduhtweet(userid,cari):\n",
    "    tgl = dt.datetime.now()\n",
    "    tgl = tgl.strftime('%Y-%m-%d-%H-%M-%S')\n",
    "    f = open(userid+tgl+\".txt\",\n",
    "             \"w\",encoding='utf-8')\n",
    "    for x in tweepy.Cursor(\n",
    "            api.user_timeline,\n",
    "            id=userid).items(200):\n",
    "        if carikata(cari,x.text):\n",
    "            f.write(x.text+\"\\n\\n\")\n",
    "    f.close()"
   ]
  },
  {
   "cell_type": "code",
   "execution_count": 7,
   "metadata": {},
   "outputs": [],
   "source": [
    "kepo = [\"motogp\",\"fifacom\",\"pubg\"]"
   ]
  },
  {
   "cell_type": "code",
   "execution_count": 8,
   "metadata": {},
   "outputs": [],
   "source": [
    "for x in kepo:\n",
    "    unduhtweet(x,\"you\")"
   ]
  },
  {
   "cell_type": "code",
   "execution_count": null,
   "metadata": {},
   "outputs": [],
   "source": [
    "#streaming\n",
    "class MyStreamListener(tweepy.StreamListener):\n",
    "    def on_status(self, status):\n",
    "        with open(\"streamLogFormat.txt\",\"a\") as f:\n",
    "            f.write(\"screen_name=\"+status.user.screen_name+\"\\n\")\n",
    "            f.write(\"name=\"+status.user.name+\"\\n\")\n",
    "            f.write(\"created at=\"+str(status.created_at)+\"\\n\")\n",
    "            f.write(\"lang=\"+status.lang+\"\\n\")\n",
    "            f.write(\"location=\"+str(status.user.location)+\"\\n\")\n",
    "            f.write(\"status=\"+'\"'+status.text+'\"'+\"\\n\\n\")\n",
    "        f.close()\n",
    "    def on_error(self, status_code):\n",
    "        if status_code == 420:\n",
    "            return False"
   ]
  },
  {
   "cell_type": "code",
   "execution_count": null,
   "metadata": {},
   "outputs": [],
   "source": [
    "myStreamListener = MyStreamListener()\n",
    "myStream = tweepy.Stream(auth=api.auth,listener=myStreamListener)\n",
    "myStream.filter(track=['python'])"
   ]
  },
  {
   "cell_type": "code",
   "execution_count": null,
   "metadata": {},
   "outputs": [],
   "source": []
  }
 ],
 "metadata": {
  "kernelspec": {
   "display_name": "Python 3",
   "language": "python",
   "name": "python3"
  },
  "language_info": {
   "codemirror_mode": {
    "name": "ipython",
    "version": 3
   },
   "file_extension": ".py",
   "mimetype": "text/x-python",
   "name": "python",
   "nbconvert_exporter": "python",
   "pygments_lexer": "ipython3",
   "version": "3.7.3"
  }
 },
 "nbformat": 4,
 "nbformat_minor": 2
}
